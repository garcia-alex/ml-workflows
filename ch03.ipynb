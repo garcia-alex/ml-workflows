{
 "cells": [
  {
   "cell_type": "code",
   "execution_count": 52,
   "metadata": {},
   "outputs": [
    {
     "data": {
      "text/plain": [
       "<Figure size 432x288 with 0 Axes>"
      ]
     },
     "metadata": {},
     "output_type": "display_data"
    }
   ],
   "source": [
    "%run -i ch03.py"
   ]
  },
  {
   "cell_type": "code",
   "execution_count": 53,
   "metadata": {},
   "outputs": [
    {
     "data": {
      "text/plain": [
       "((60000, 784), (60000,))"
      ]
     },
     "execution_count": 53,
     "metadata": {},
     "output_type": "execute_result"
    }
   ],
   "source": [
    "%matplotlib inline\n",
    "import matplotlib\n",
    "import matplotlib.pyplot as plt\n",
    "\n",
    "X, y = train\n",
    "X_, y_ = shuffled\n",
    "X.shape, y.shape"
   ]
  },
  {
   "cell_type": "code",
   "execution_count": 54,
   "metadata": {},
   "outputs": [
    {
     "data": {
      "image/png": "[encoded data removed]",
      "text/plain": [
       "<Figure size 432x288 with 1 Axes>"
      ]
     },
     "metadata": {
      "needs_background": "light"
     },
     "output_type": "display_data"
    }
   ],
   "source": [
    "visualize_mnist(train, 36000)"
   ]
  },
  {
   "cell_type": "code",
   "execution_count": 55,
   "metadata": {},
   "outputs": [
    {
     "data": {
      "image/png": "[encoded data removed]",
      "text/plain": [
       "<Figure size 432x288 with 1 Axes>"
      ]
     },
     "metadata": {
      "needs_background": "light"
     },
     "output_type": "display_data"
    }
   ],
   "source": [
    "visualize_mnist(shuffled, 36000)"
   ]
  },
  {
   "cell_type": "code",
   "execution_count": 56,
   "metadata": {},
   "outputs": [
    {
     "data": {
      "text/plain": [
       "(5, 8)"
      ]
     },
     "execution_count": 56,
     "metadata": {},
     "output_type": "execute_result"
    }
   ],
   "source": [
    "y[36000], y_[36000]"
   ]
  },
  {
   "cell_type": "code",
   "execution_count": 57,
   "metadata": {},
   "outputs": [
    {
     "name": "stderr",
     "output_type": "stream",
     "text": [
      "2019-02-03 22:13:34 ml           INFO     SGDClassifier\n",
      "2019-02-03 22:13:34 ml           INFO     ==========\n",
      "2019-02-03 22:13:34 ml           INFO     ('Confusion Matrix:', array([[52245,  2334],\n",
      "       [  832,  4589]]))\n",
      "2019-02-03 22:13:34 ml           INFO     ('P/R', ['0.66', '0.85', '0.74'])\n",
      "2019-02-03 22:13:34 ml           INFO     --------\n",
      "\n",
      "\n"
     ]
    }
   ],
   "source": [
    "y_train = (y_ == 5)\n",
    "y_test = (test[1] == 5)\n",
    "\n",
    "from sklearn.linear_model import SGDClassifier\n",
    "from evaluation import EvaluateClassifier as EC\n",
    "\n",
    "ec = EC(SGDClassifier, max_iter=5, tol=-np.infty, random_state=42)\n",
    "ec.run(X_, y_train, cv=3)"
   ]
  },
  {
   "cell_type": "code",
   "execution_count": 81,
   "metadata": {},
   "outputs": [],
   "source": [
    "def prc_graph(prec, rec, thresh):\n",
    "    plt.figure(figsize=(8, 4))\n",
    "    plt.plot(thresh, prec[:-1], 'b--', label=\"Precision\")\n",
    "    plt.plot(thresh, rec[:-1], 'g-', label=\"Recall\")\n",
    "    plt.xlabel(\"Threshold\")\n",
    "    plt.legend(loc=\"center left\")\n",
    "    plt.ylim([0, 1])\n",
    "    plt.xlim([-700000, 700000])\n",
    "    plt.show()"
   ]
  },
  {
   "cell_type": "code",
   "execution_count": 89,
   "metadata": {},
   "outputs": [
    {
     "data": {
      "image/png": "[encoded data removed]",
      "text/plain": [
       "<Figure size 576x288 with 1 Axes>"
      ]
     },
     "metadata": {
      "needs_background": "light"
     },
     "output_type": "display_data"
    }
   ],
   "source": [
    "p, r, t = ec.pc_curve(X_, y_train, cv=3, method='decision_function')\n",
    "\n",
    "prc_graph(p, r, t)"
   ]
  },
  {
   "cell_type": "code",
   "execution_count": 90,
   "metadata": {},
   "outputs": [
    {
     "name": "stdout",
     "output_type": "stream",
     "text": [
      "-700000 (50622,) 0.1064951997155387 0.9944659656889873\n",
      "-600000 (46369,) 0.1158748301667062 0.9911455451023796\n",
      "-500000 (40498,) 0.13225344461454885 0.988009592326139\n",
      "-400000 (32973,) 0.1614047857337822 0.981737686773658\n",
      "-300000 (24386,) 0.21643565980480603 0.973621103117506\n",
      "-200000 (16439,) 0.31565180363769085 0.9572034679948349\n",
      "-100000 (10442,) 0.47854817084849643 0.9217856484043534\n",
      "0 (6923,) 0.6628629206991189 0.8465227817745803\n",
      "100000 (4798,) 0.8047102959566486 0.7122302158273381\n",
      "200000 (3216,) 0.8973880597014925 0.5323741007194245\n",
      "300000 (1961,) 0.9464558898521163 0.34237225604132077\n",
      "400000 (1086,) 0.9723756906077348 0.19479800774764802\n",
      "500000 (512,) 0.974609375 0.09204943737317837\n",
      "600000 (210,) 0.9761904761904762 0.03781590112525364\n",
      "700000 (75,) 0.9733333333333334 0.013466150156797639\n"
     ]
    }
   ],
   "source": [
    "from sklearn.metrics import precision_score, recall_score\n",
    "\n",
    "ts = [100000 * (x - 7) for x in range(15)]\n",
    "\n",
    "for t in ts:\n",
    "    z = (scores > t)\n",
    "    ps = precision_score(y_train, z)\n",
    "    rs = recall_score(y_train, z)\n",
    "    print(t, z[z==True].shape, ps, rs)"
   ]
  },
  {
   "cell_type": "code",
   "execution_count": null,
   "metadata": {},
   "outputs": [],
   "source": []
  }
 ],
 "metadata": {
  "kernelspec": {
   "display_name": "Python 3",
   "language": "python",
   "name": "python3"
  },
  "language_info": {
   "codemirror_mode": {
    "name": "ipython",
    "version": 3
   },
   "file_extension": ".py",
   "mimetype": "text/x-python",
   "name": "python",
   "nbconvert_exporter": "python",
   "pygments_lexer": "ipython3",
   "version": "3.7.0"
  }
 },
 "nbformat": 4,
 "nbformat_minor": 2
}
