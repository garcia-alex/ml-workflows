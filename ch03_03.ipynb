{
 "cells": [
  {
   "cell_type": "code",
   "execution_count": 1,
   "metadata": {},
   "outputs": [],
   "source": [
    "%run -i ch03.py"
   ]
  },
  {
   "cell_type": "code",
   "execution_count": 2,
   "metadata": {},
   "outputs": [],
   "source": [
    "%matplotlib inline\n",
    "\n",
    "import numpy as np\n",
    "from sklearn.neighbors import KNeighborsClassifier\n",
    "\n",
    "from models import ClassifierModel as CM"
   ]
  },
  {
   "cell_type": "code",
   "execution_count": 3,
   "metadata": {},
   "outputs": [
    {
     "data": {
      "text/plain": [
       "KNeighborsClassifier(algorithm='auto', leaf_size=30, metric='minkowski',\n",
       "           metric_params=None, n_jobs=None, n_neighbors=5, p=2,\n",
       "           weights='uniform')"
      ]
     },
     "execution_count": 3,
     "metadata": {},
     "output_type": "execute_result"
    }
   ],
   "source": [
    "# Multilabel Classification\n",
    "\n",
    "y_large = (labels >= 7)\n",
    "y_odd = (labels % 2 == 1)\n",
    "y_multi = np.c_[y_large, y_odd]\n",
    "\n",
    "knn = CM(KNeighborsClassifier)\n",
    "knn.model.fit(features, y_multi)\n"
   ]
  },
  {
   "cell_type": "code",
   "execution_count": 4,
   "metadata": {},
   "outputs": [
    {
     "name": "stdout",
     "output_type": "stream",
     "text": [
      "5 [False  True] [False  True]\n",
      "8 [ True False] [ True False]\n",
      "2 [False False] [False False]\n",
      "1 [False  True] [False  True]\n",
      "1 [False  True] [False  True]\n",
      "2 [False False] [False False]\n",
      "2 [False False] [False False]\n",
      "6 [False False] [False False]\n",
      "3 [False  True] [False  True]\n",
      "8 [ True False] [ True False]\n",
      "9 [ True  True] [ True  True]\n",
      "0 [False False] [False False]\n",
      "9 [ True  True] [ True  True]\n",
      "5 [False  True] [False  True]\n",
      "0 [False False] [False False]\n",
      "2 [False False] [False False]\n",
      "7 [ True  True] [ True  True]\n",
      "4 [False False] [False False]\n",
      "0 [False False] [False False]\n",
      "3 [False  True] [False  True]\n",
      "0 [False False] [False False]\n",
      "1 [False  True] [False  True]\n",
      "9 [ True  True] [ True  True]\n",
      "4 [False False] [False False]\n",
      "7 [ True  True] [ True  True]\n"
     ]
    }
   ],
   "source": [
    "pred = knn.model.predict(features[:25])\n",
    "                  \n",
    "for k in range(25):\n",
    "    print(labels[k], y_multi[k], pred[k])"
   ]
  },
  {
   "cell_type": "code",
   "execution_count": 5,
   "metadata": {},
   "outputs": [
    {
     "data": {
      "text/plain": [
       "KNeighborsClassifier(algorithm='auto', leaf_size=30, metric='minkowski',\n",
       "           metric_params=None, n_jobs=None, n_neighbors=5, p=2,\n",
       "           weights='uniform')"
      ]
     },
     "execution_count": 5,
     "metadata": {},
     "output_type": "execute_result"
    }
   ],
   "source": [
    "# Multioutput Classification (each label in multilabel classifiction can be multiclass)\n",
    "noise = np.random.randint(0, 100, (len(features), 784))\n",
    "noisy = features + noise\n",
    "knn.model.fit(noisy, features)"
   ]
  },
  {
   "cell_type": "code",
   "execution_count": 6,
   "metadata": {},
   "outputs": [
    {
     "data": {
      "image/png": "[encoded data removed]",
      "text/plain": [
       "<Figure size 72x72 with 1 Axes>"
      ]
     },
     "metadata": {
      "needs_background": "light"
     },
     "output_type": "display_data"
    }
   ],
   "source": [
    "visualize_mnist(noisy[:100], 36)"
   ]
  },
  {
   "cell_type": "code",
   "execution_count": 7,
   "metadata": {},
   "outputs": [
    {
     "data": {
      "image/png": "[encoded data removed]",
      "text/plain": [
       "<Figure size 72x72 with 1 Axes>"
      ]
     },
     "metadata": {
      "needs_background": "light"
     },
     "output_type": "display_data"
    }
   ],
   "source": [
    "predictions = knn.model.predict(noisy[:100])\n",
    "visualize_mnist(predictions, 36)"
   ]
  },
  {
   "cell_type": "code",
   "execution_count": null,
   "metadata": {},
   "outputs": [],
   "source": []
  }
 ],
 "metadata": {
  "kernelspec": {
   "display_name": "Python 3",
   "language": "python",
   "name": "python3"
  },
  "language_info": {
   "codemirror_mode": {
    "name": "ipython",
    "version": 3
   },
   "file_extension": ".py",
   "mimetype": "text/x-python",
   "name": "python",
   "nbconvert_exporter": "python",
   "pygments_lexer": "ipython3",
   "version": "3.7.0"
  }
 },
 "nbformat": 4,
 "nbformat_minor": 2
}
